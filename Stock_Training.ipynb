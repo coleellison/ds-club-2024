{
 "cells": [
  {
   "cell_type": "code",
   "execution_count": 1,
   "id": "df23a4ae-eedf-4991-94ce-377bc6e01175",
   "metadata": {},
   "outputs": [
    {
     "name": "stderr",
     "output_type": "stream",
     "text": [
      "/var/folders/hs/191474ks0753rx0yhjd1cy_w0000gn/T/ipykernel_6755/2605376499.py:1: DeprecationWarning: \n",
      "Pyarrow will become a required dependency of pandas in the next major release of pandas (pandas 3.0),\n",
      "(to allow more performant data types, such as the Arrow string type, and better interoperability with other libraries)\n",
      "but was not found to be installed on your system.\n",
      "If this would cause problems for you,\n",
      "please provide us feedback at https://github.com/pandas-dev/pandas/issues/54466\n",
      "        \n",
      "  import pandas as pd\n"
     ]
    }
   ],
   "source": [
    "import pandas as pd\n",
    "import numpy as np\n",
    "from pandas_datareader import data as pdr\n",
    "from datetime import date, timedelta\n",
    "import yfinance as yf\n",
    "import matplotlib.pyplot as plt\n",
    "import matplotlib.dates as mdates"
   ]
  },
  {
   "cell_type": "code",
   "execution_count": 2,
   "id": "add4b8ae-79e2-4702-93a9-4704d073d11d",
   "metadata": {},
   "outputs": [],
   "source": [
    "from stock_history import calc_dates\n",
    "from stock_history import price_history\n",
    "from stock_history import plot_stocks "
   ]
  },
  {
   "cell_type": "code",
   "execution_count": 36,
   "id": "795d49f9-760f-4413-8812-3bf92e2ed0bd",
   "metadata": {},
   "outputs": [
    {
     "name": "stderr",
     "output_type": "stream",
     "text": [
      "/Library/Frameworks/Python.framework/Versions/3.11/lib/python3.11/site-packages/yfinance/utils.py:775: FutureWarning: The 'unit' keyword in TimedeltaIndex construction is deprecated and will be removed in a future version. Use pd.to_timedelta instead.\n",
      "  df.index += _pd.TimedeltaIndex(dst_error_hours, 'h')\n",
      "[*********************100%%**********************]  1 of 1 completed\n"
     ]
    },
    {
     "data": {
      "image/png": "[encoded data removed]",
      "text/plain": [
       "<Figure size 640x480 with 1 Axes>"
      ]
     },
     "metadata": {},
     "output_type": "display_data"
    }
   ],
   "source": [
    "plot_stocks([\"MSFT\"], 365)"
   ]
  },
  {
   "cell_type": "code",
   "execution_count": 37,
   "id": "8873b294-9a9c-4d5b-847b-0aedf66fb997",
   "metadata": {},
   "outputs": [
    {
     "name": "stderr",
     "output_type": "stream",
     "text": [
      "/Library/Frameworks/Python.framework/Versions/3.11/lib/python3.11/site-packages/yfinance/utils.py:775: FutureWarning: The 'unit' keyword in TimedeltaIndex construction is deprecated and will be removed in a future version. Use pd.to_timedelta instead.\n",
      "  df.index += _pd.TimedeltaIndex(dst_error_hours, 'h')\n",
      "[*********************100%%**********************]  1 of 1 completed\n"
     ]
    }
   ],
   "source": [
    "stock_prices = price_history([\"MSFT\"], 365)[0]"
   ]
  },
  {
   "cell_type": "code",
   "execution_count": 38,
   "id": "6635f7b8-d358-4bd3-8e4b-bee0d630459c",
   "metadata": {},
   "outputs": [],
   "source": [
    "from statsmodels.tsa.stattools import adfuller\n",
    "\n",
    "def adf_test(dataset):\n",
    "  dftest = adfuller(dataset, autolag = 'AIC')\n",
    "  print(\"1. ADF : \",dftest[0])\n",
    "  print(\"2. P-Value : \", dftest[1])\n",
    "  print(\"3. Num Of Lags : \", dftest[2])\n",
    "  print(\"4. Num Of Observations Used For ADF Regression and Critical Values Calculation :\", dftest[3])\n",
    "  print(\"5. Critical Values :\")\n",
    "  for key, val in dftest[4].items():\n",
    "      print(\"\\t\",key, \": \", val)"
   ]
  },
  {
   "cell_type": "code",
   "execution_count": 39,
   "id": "bae80828-112e-4cb5-ba15-71aec91e4b6d",
   "metadata": {},
   "outputs": [
    {
     "name": "stdout",
     "output_type": "stream",
     "text": [
      "1. ADF :  -1.7755175635911955\n",
      "2. P-Value :  0.3926824845128857\n",
      "3. Num Of Lags :  2\n",
      "4. Num Of Observations Used For ADF Regression and Critical Values Calculation : 248\n",
      "5. Critical Values :\n",
      "\t 1% :  -3.4569962781990573\n",
      "\t 5% :  -2.8732659015936024\n",
      "\t 10% :  -2.573018897632674\n"
     ]
    }
   ],
   "source": [
    "adf_test(stock_prices[\"Close\"])"
   ]
  },
  {
   "cell_type": "code",
   "execution_count": 43,
   "id": "e367a605-4602-4a08-ab5d-2f7077f300df",
   "metadata": {},
   "outputs": [
    {
     "data": {
      "text/html": [
       "<table class=\"simpletable\">\n",
       "<caption>SARIMAX Results</caption>\n",
       "<tr>\n",
       "  <th>Dep. Variable:</th>           <td>y</td>        <th>  No. Observations:  </th>    <td>251</td>  \n",
       "</tr>\n",
       "<tr>\n",
       "  <th>Model:</th>           <td>SARIMAX(2, 1, 2)</td> <th>  Log Likelihood     </th> <td>-739.125</td>\n",
       "</tr>\n",
       "<tr>\n",
       "  <th>Date:</th>            <td>Thu, 07 Mar 2024</td> <th>  AIC                </th> <td>1490.250</td>\n",
       "</tr>\n",
       "<tr>\n",
       "  <th>Time:</th>                <td>15:24:48</td>     <th>  BIC                </th> <td>1511.379</td>\n",
       "</tr>\n",
       "<tr>\n",
       "  <th>Sample:</th>                  <td>0</td>        <th>  HQIC               </th> <td>1498.754</td>\n",
       "</tr>\n",
       "<tr>\n",
       "  <th></th>                      <td> - 251</td>      <th>                     </th>     <td> </td>   \n",
       "</tr>\n",
       "<tr>\n",
       "  <th>Covariance Type:</th>        <td>opg</td>       <th>                     </th>     <td> </td>   \n",
       "</tr>\n",
       "</table>\n",
       "<table class=\"simpletable\">\n",
       "<tr>\n",
       "      <td></td>         <th>coef</th>     <th>std err</th>      <th>z</th>      <th>P>|z|</th>  <th>[0.025</th>    <th>0.975]</th>  \n",
       "</tr>\n",
       "<tr>\n",
       "  <th>intercept</th> <td>    0.7498</td> <td>    0.341</td> <td>    2.198</td> <td> 0.028</td> <td>    0.081</td> <td>    1.418</td>\n",
       "</tr>\n",
       "<tr>\n",
       "  <th>ar.L1</th>     <td>    0.5340</td> <td>    0.175</td> <td>    3.053</td> <td> 0.002</td> <td>    0.191</td> <td>    0.877</td>\n",
       "</tr>\n",
       "<tr>\n",
       "  <th>ar.L2</th>     <td>   -0.7894</td> <td>    0.142</td> <td>   -5.577</td> <td> 0.000</td> <td>   -1.067</td> <td>   -0.512</td>\n",
       "</tr>\n",
       "<tr>\n",
       "  <th>ma.L1</th>     <td>   -0.6184</td> <td>    0.189</td> <td>   -3.272</td> <td> 0.001</td> <td>   -0.989</td> <td>   -0.248</td>\n",
       "</tr>\n",
       "<tr>\n",
       "  <th>ma.L2</th>     <td>    0.7307</td> <td>    0.167</td> <td>    4.369</td> <td> 0.000</td> <td>    0.403</td> <td>    1.058</td>\n",
       "</tr>\n",
       "<tr>\n",
       "  <th>sigma2</th>    <td>   21.6400</td> <td>    1.744</td> <td>   12.407</td> <td> 0.000</td> <td>   18.221</td> <td>   25.058</td>\n",
       "</tr>\n",
       "</table>\n",
       "<table class=\"simpletable\">\n",
       "<tr>\n",
       "  <th>Ljung-Box (L1) (Q):</th>     <td>0.02</td> <th>  Jarque-Bera (JB):  </th> <td>6.91</td>\n",
       "</tr>\n",
       "<tr>\n",
       "  <th>Prob(Q):</th>                <td>0.90</td> <th>  Prob(JB):          </th> <td>0.03</td>\n",
       "</tr>\n",
       "<tr>\n",
       "  <th>Heteroskedasticity (H):</th> <td>0.78</td> <th>  Skew:              </th> <td>0.12</td>\n",
       "</tr>\n",
       "<tr>\n",
       "  <th>Prob(H) (two-sided):</th>    <td>0.26</td> <th>  Kurtosis:          </th> <td>3.78</td>\n",
       "</tr>\n",
       "</table><br/><br/>Warnings:<br/>[1] Covariance matrix calculated using the outer product of gradients (complex-step)."
      ],
      "text/latex": [
       "\\begin{center}\n",
       "\\begin{tabular}{lclc}\n",
       "\\toprule\n",
       "\\textbf{Dep. Variable:}          &        y         & \\textbf{  No. Observations:  } &    251      \\\\\n",
       "\\textbf{Model:}                  & SARIMAX(2, 1, 2) & \\textbf{  Log Likelihood     } &  -739.125   \\\\\n",
       "\\textbf{Date:}                   & Thu, 07 Mar 2024 & \\textbf{  AIC                } &  1490.250   \\\\\n",
       "\\textbf{Time:}                   &     15:24:48     & \\textbf{  BIC                } &  1511.379   \\\\\n",
       "\\textbf{Sample:}                 &        0         & \\textbf{  HQIC               } &  1498.754   \\\\\n",
       "\\textbf{}                        &       - 251      & \\textbf{                     } &             \\\\\n",
       "\\textbf{Covariance Type:}        &       opg        & \\textbf{                     } &             \\\\\n",
       "\\bottomrule\n",
       "\\end{tabular}\n",
       "\\begin{tabular}{lcccccc}\n",
       "                   & \\textbf{coef} & \\textbf{std err} & \\textbf{z} & \\textbf{P$> |$z$|$} & \\textbf{[0.025} & \\textbf{0.975]}  \\\\\n",
       "\\midrule\n",
       "\\textbf{intercept} &       0.7498  &        0.341     &     2.198  &         0.028        &        0.081    &        1.418     \\\\\n",
       "\\textbf{ar.L1}     &       0.5340  &        0.175     &     3.053  &         0.002        &        0.191    &        0.877     \\\\\n",
       "\\textbf{ar.L2}     &      -0.7894  &        0.142     &    -5.577  &         0.000        &       -1.067    &       -0.512     \\\\\n",
       "\\textbf{ma.L1}     &      -0.6184  &        0.189     &    -3.272  &         0.001        &       -0.989    &       -0.248     \\\\\n",
       "\\textbf{ma.L2}     &       0.7307  &        0.167     &     4.369  &         0.000        &        0.403    &        1.058     \\\\\n",
       "\\textbf{sigma2}    &      21.6400  &        1.744     &    12.407  &         0.000        &       18.221    &       25.058     \\\\\n",
       "\\bottomrule\n",
       "\\end{tabular}\n",
       "\\begin{tabular}{lclc}\n",
       "\\textbf{Ljung-Box (L1) (Q):}     & 0.02 & \\textbf{  Jarque-Bera (JB):  } & 6.91  \\\\\n",
       "\\textbf{Prob(Q):}                & 0.90 & \\textbf{  Prob(JB):          } & 0.03  \\\\\n",
       "\\textbf{Heteroskedasticity (H):} & 0.78 & \\textbf{  Skew:              } & 0.12  \\\\\n",
       "\\textbf{Prob(H) (two-sided):}    & 0.26 & \\textbf{  Kurtosis:          } & 3.78  \\\\\n",
       "\\bottomrule\n",
       "\\end{tabular}\n",
       "%\\caption{SARIMAX Results}\n",
       "\\end{center}\n",
       "\n",
       "Warnings: \\newline\n",
       " [1] Covariance matrix calculated using the outer product of gradients (complex-step)."
      ],
      "text/plain": [
       "<class 'statsmodels.iolib.summary.Summary'>\n",
       "\"\"\"\n",
       "                               SARIMAX Results                                \n",
       "==============================================================================\n",
       "Dep. Variable:                      y   No. Observations:                  251\n",
       "Model:               SARIMAX(2, 1, 2)   Log Likelihood                -739.125\n",
       "Date:                Thu, 07 Mar 2024   AIC                           1490.250\n",
       "Time:                        15:24:48   BIC                           1511.379\n",
       "Sample:                             0   HQIC                          1498.754\n",
       "                                - 251                                         \n",
       "Covariance Type:                  opg                                         \n",
       "==============================================================================\n",
       "                 coef    std err          z      P>|z|      [0.025      0.975]\n",
       "------------------------------------------------------------------------------\n",
       "intercept      0.7498      0.341      2.198      0.028       0.081       1.418\n",
       "ar.L1          0.5340      0.175      3.053      0.002       0.191       0.877\n",
       "ar.L2         -0.7894      0.142     -5.577      0.000      -1.067      -0.512\n",
       "ma.L1         -0.6184      0.189     -3.272      0.001      -0.989      -0.248\n",
       "ma.L2          0.7307      0.167      4.369      0.000       0.403       1.058\n",
       "sigma2        21.6400      1.744     12.407      0.000      18.221      25.058\n",
       "===================================================================================\n",
       "Ljung-Box (L1) (Q):                   0.02   Jarque-Bera (JB):                 6.91\n",
       "Prob(Q):                              0.90   Prob(JB):                         0.03\n",
       "Heteroskedasticity (H):               0.78   Skew:                             0.12\n",
       "Prob(H) (two-sided):                  0.26   Kurtosis:                         3.78\n",
       "===================================================================================\n",
       "\n",
       "Warnings:\n",
       "[1] Covariance matrix calculated using the outer product of gradients (complex-step).\n",
       "\"\"\""
      ]
     },
     "execution_count": 43,
     "metadata": {},
     "output_type": "execute_result"
    }
   ],
   "source": [
    "from pmdarima import auto_arima\n",
    "\n",
    "import warnings\n",
    "warnings.filterwarnings(\"ignore\")\n",
    "stepwise_fit = auto_arima(stock_prices[\"Close\"], suppress_warnings=True)           \n",
    "\n",
    "stepwise_fit.summary()"
   ]
  },
  {
   "cell_type": "code",
   "execution_count": 64,
   "id": "293a466d-62f4-42b5-b91e-31040ec8bf78",
   "metadata": {},
   "outputs": [
    {
     "data": {
      "text/html": [
       "<table class=\"simpletable\">\n",
       "<caption>SARIMAX Results</caption>\n",
       "<tr>\n",
       "  <th>Dep. Variable:</th>         <td>Close</td>      <th>  No. Observations:  </th>    <td>251</td>  \n",
       "</tr>\n",
       "<tr>\n",
       "  <th>Model:</th>            <td>ARIMA(2, 1, 2)</td>  <th>  Log Likelihood     </th> <td>-741.656</td>\n",
       "</tr>\n",
       "<tr>\n",
       "  <th>Date:</th>            <td>Thu, 07 Mar 2024</td> <th>  AIC                </th> <td>1493.311</td>\n",
       "</tr>\n",
       "<tr>\n",
       "  <th>Time:</th>                <td>16:58:00</td>     <th>  BIC                </th> <td>1510.919</td>\n",
       "</tr>\n",
       "<tr>\n",
       "  <th>Sample:</th>                  <td>0</td>        <th>  HQIC               </th> <td>1500.398</td>\n",
       "</tr>\n",
       "<tr>\n",
       "  <th></th>                      <td> - 251</td>      <th>                     </th>     <td> </td>   \n",
       "</tr>\n",
       "<tr>\n",
       "  <th>Covariance Type:</th>        <td>opg</td>       <th>                     </th>     <td> </td>   \n",
       "</tr>\n",
       "</table>\n",
       "<table class=\"simpletable\">\n",
       "<tr>\n",
       "     <td></td>       <th>coef</th>     <th>std err</th>      <th>z</th>      <th>P>|z|</th>  <th>[0.025</th>    <th>0.975]</th>  \n",
       "</tr>\n",
       "<tr>\n",
       "  <th>ar.L1</th>  <td>    0.5400</td> <td>    0.145</td> <td>    3.730</td> <td> 0.000</td> <td>    0.256</td> <td>    0.824</td>\n",
       "</tr>\n",
       "<tr>\n",
       "  <th>ar.L2</th>  <td>   -0.8337</td> <td>    0.124</td> <td>   -6.721</td> <td> 0.000</td> <td>   -1.077</td> <td>   -0.591</td>\n",
       "</tr>\n",
       "<tr>\n",
       "  <th>ma.L1</th>  <td>   -0.6105</td> <td>    0.159</td> <td>   -3.837</td> <td> 0.000</td> <td>   -0.922</td> <td>   -0.299</td>\n",
       "</tr>\n",
       "<tr>\n",
       "  <th>ma.L2</th>  <td>    0.7837</td> <td>    0.145</td> <td>    5.409</td> <td> 0.000</td> <td>    0.500</td> <td>    1.068</td>\n",
       "</tr>\n",
       "<tr>\n",
       "  <th>sigma2</th> <td>   22.0814</td> <td>    1.774</td> <td>   12.444</td> <td> 0.000</td> <td>   18.604</td> <td>   25.559</td>\n",
       "</tr>\n",
       "</table>\n",
       "<table class=\"simpletable\">\n",
       "<tr>\n",
       "  <th>Ljung-Box (L1) (Q):</th>     <td>0.11</td> <th>  Jarque-Bera (JB):  </th> <td>7.06</td>\n",
       "</tr>\n",
       "<tr>\n",
       "  <th>Prob(Q):</th>                <td>0.74</td> <th>  Prob(JB):          </th> <td>0.03</td>\n",
       "</tr>\n",
       "<tr>\n",
       "  <th>Heteroskedasticity (H):</th> <td>0.77</td> <th>  Skew:              </th> <td>0.10</td>\n",
       "</tr>\n",
       "<tr>\n",
       "  <th>Prob(H) (two-sided):</th>    <td>0.23</td> <th>  Kurtosis:          </th> <td>3.80</td>\n",
       "</tr>\n",
       "</table><br/><br/>Warnings:<br/>[1] Covariance matrix calculated using the outer product of gradients (complex-step)."
      ],
      "text/latex": [
       "\\begin{center}\n",
       "\\begin{tabular}{lclc}\n",
       "\\toprule\n",
       "\\textbf{Dep. Variable:}          &      Close       & \\textbf{  No. Observations:  } &    251      \\\\\n",
       "\\textbf{Model:}                  &  ARIMA(2, 1, 2)  & \\textbf{  Log Likelihood     } &  -741.656   \\\\\n",
       "\\textbf{Date:}                   & Thu, 07 Mar 2024 & \\textbf{  AIC                } &  1493.311   \\\\\n",
       "\\textbf{Time:}                   &     16:58:00     & \\textbf{  BIC                } &  1510.919   \\\\\n",
       "\\textbf{Sample:}                 &        0         & \\textbf{  HQIC               } &  1500.398   \\\\\n",
       "\\textbf{}                        &       - 251      & \\textbf{                     } &             \\\\\n",
       "\\textbf{Covariance Type:}        &       opg        & \\textbf{                     } &             \\\\\n",
       "\\bottomrule\n",
       "\\end{tabular}\n",
       "\\begin{tabular}{lcccccc}\n",
       "                & \\textbf{coef} & \\textbf{std err} & \\textbf{z} & \\textbf{P$> |$z$|$} & \\textbf{[0.025} & \\textbf{0.975]}  \\\\\n",
       "\\midrule\n",
       "\\textbf{ar.L1}  &       0.5400  &        0.145     &     3.730  &         0.000        &        0.256    &        0.824     \\\\\n",
       "\\textbf{ar.L2}  &      -0.8337  &        0.124     &    -6.721  &         0.000        &       -1.077    &       -0.591     \\\\\n",
       "\\textbf{ma.L1}  &      -0.6105  &        0.159     &    -3.837  &         0.000        &       -0.922    &       -0.299     \\\\\n",
       "\\textbf{ma.L2}  &       0.7837  &        0.145     &     5.409  &         0.000        &        0.500    &        1.068     \\\\\n",
       "\\textbf{sigma2} &      22.0814  &        1.774     &    12.444  &         0.000        &       18.604    &       25.559     \\\\\n",
       "\\bottomrule\n",
       "\\end{tabular}\n",
       "\\begin{tabular}{lclc}\n",
       "\\textbf{Ljung-Box (L1) (Q):}     & 0.11 & \\textbf{  Jarque-Bera (JB):  } & 7.06  \\\\\n",
       "\\textbf{Prob(Q):}                & 0.74 & \\textbf{  Prob(JB):          } & 0.03  \\\\\n",
       "\\textbf{Heteroskedasticity (H):} & 0.77 & \\textbf{  Skew:              } & 0.10  \\\\\n",
       "\\textbf{Prob(H) (two-sided):}    & 0.23 & \\textbf{  Kurtosis:          } & 3.80  \\\\\n",
       "\\bottomrule\n",
       "\\end{tabular}\n",
       "%\\caption{SARIMAX Results}\n",
       "\\end{center}\n",
       "\n",
       "Warnings: \\newline\n",
       " [1] Covariance matrix calculated using the outer product of gradients (complex-step)."
      ],
      "text/plain": [
       "<class 'statsmodels.iolib.summary.Summary'>\n",
       "\"\"\"\n",
       "                               SARIMAX Results                                \n",
       "==============================================================================\n",
       "Dep. Variable:                  Close   No. Observations:                  251\n",
       "Model:                 ARIMA(2, 1, 2)   Log Likelihood                -741.656\n",
       "Date:                Thu, 07 Mar 2024   AIC                           1493.311\n",
       "Time:                        16:58:00   BIC                           1510.919\n",
       "Sample:                             0   HQIC                          1500.398\n",
       "                                - 251                                         \n",
       "Covariance Type:                  opg                                         \n",
       "==============================================================================\n",
       "                 coef    std err          z      P>|z|      [0.025      0.975]\n",
       "------------------------------------------------------------------------------\n",
       "ar.L1          0.5400      0.145      3.730      0.000       0.256       0.824\n",
       "ar.L2         -0.8337      0.124     -6.721      0.000      -1.077      -0.591\n",
       "ma.L1         -0.6105      0.159     -3.837      0.000      -0.922      -0.299\n",
       "ma.L2          0.7837      0.145      5.409      0.000       0.500       1.068\n",
       "sigma2        22.0814      1.774     12.444      0.000      18.604      25.559\n",
       "===================================================================================\n",
       "Ljung-Box (L1) (Q):                   0.11   Jarque-Bera (JB):                 7.06\n",
       "Prob(Q):                              0.74   Prob(JB):                         0.03\n",
       "Heteroskedasticity (H):               0.77   Skew:                             0.10\n",
       "Prob(H) (two-sided):                  0.23   Kurtosis:                         3.80\n",
       "===================================================================================\n",
       "\n",
       "Warnings:\n",
       "[1] Covariance matrix calculated using the outer product of gradients (complex-step).\n",
       "\"\"\""
      ]
     },
     "execution_count": 64,
     "metadata": {},
     "output_type": "execute_result"
    }
   ],
   "source": [
    "from statsmodels.tsa.arima.model import ARIMA\n",
    "model=ARIMA(stock_prices[\"Close\"],order=(2,1,2))\n",
    "stock_training=model.fit()\n",
    "stock_training.summary()"
   ]
  },
  {
   "cell_type": "code",
   "execution_count": 66,
   "id": "f71ffec0-5c2b-463a-8e17-32894b9f6308",
   "metadata": {},
   "outputs": [],
   "source": [
    "import pickle\n",
    "with open('trained_model.pkl', 'wb') as f:\n",
    "    pickle.dump(stock_training, f)"
   ]
  },
  {
   "cell_type": "code",
   "execution_count": null,
   "id": "be48d4e1-4cf6-4199-9ebc-39a857b84546",
   "metadata": {},
   "outputs": [],
   "source": [
    "#enter the following code to load trained model:\n",
    "#import pickle\n",
    "#with open('trained_model.pkl', 'rb') as f:\n",
    "   # stock_training = pickle.load(f)"
   ]
  }
 ],
 "metadata": {
  "kernelspec": {
   "display_name": "Python 3 (ipykernel)",
   "language": "python",
   "name": "python3"
  },
  "language_info": {
   "codemirror_mode": {
    "name": "ipython",
    "version": 3
   },
   "file_extension": ".py",
   "mimetype": "text/x-python",
   "name": "python",
   "nbconvert_exporter": "python",
   "pygments_lexer": "ipython3",
   "version": "3.11.1"
  }
 },
 "nbformat": 4,
 "nbformat_minor": 5
}
